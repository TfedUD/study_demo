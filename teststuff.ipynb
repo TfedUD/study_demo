{
 "cells": [
  {
   "cell_type": "code",
   "execution_count": 1,
   "metadata": {},
   "outputs": [
    {
     "name": "stdout",
     "output_type": "stream",
     "text": [
      "f\n"
     ]
    }
   ],
   "source": [
    "print('f')"
   ]
  },
  {
   "cell_type": "code",
   "execution_count": 1,
   "metadata": {},
   "outputs": [
    {
     "name": "stdout",
     "output_type": "stream",
     "text": [
      "[[Face: FLOOR_UNIT2_BACKROW_TOPFLOOR, Face: Wall_sdl_1.unit2_BackRow_TopFloor, Face: Wall_ldf_1.unit2_BackRow_TopFloor, Face: ceiling_unit2_BackRow_TopFloor, Face: Wall_sdr_1.unit2_BackRow_TopFloor, Face: Wall_ldb_1.unit2_BackRow_TopFloor], [Face: Floor_unit2_BackRow_BottomFloor, Face: Wall_sdr_1.unit2_BackRow_BottomFloor, Face: ceiling_unit2_BackRow_BottomFloor, Face: Wall_sdl_1.unit2_BackRow_BottomFloor, Face: Wall_ldf_1.unit2_BackRow_BottomFloor, Face: Wall_ldb_1.unit2_BackRow_BottomFloor], [Face: Floor_unit3_FrontRow_BottomFloor, Face: ceiling_unit3_FrontRow_BottomFloor, Face: Wall_ldf_1.unit3_FrontRow_BottomFloor, Face: Wall_sdl_1.unit3_FrontRow_BottomFloor, Face: Wall_ldb_1.unit3_FrontRow_BottomFloor, Face: Wall_sdr_1.unit3_FrontRow_BottomFloor], [Face: Floor_unit1_FrontRow_BottomFloor, Face: ceiling_unit1_FrontRow_BottomFloor, Face: Wall_sdr_1.unit1_FRONTROW_BOTTOMFLOOR, Face: Wall_ldb_1.unit1_FrontRow_BottomFloor, Face: Wall_sdl_1.unit1_FrontRow_BottomFloor, Face: Wall_ldf_1.unit1_FrontRow_BottomFloor], [Face: ceiling_unit1_BackRow_BottomFloor, Face: Floor_unit1_BackRow_BottomFloor, Face: Wall_ldf_1.unit1_BackRow_BottomFloor, Face: Wall_sdr_1.unit1_BackRow_BottomFloor, Face: Wall_ldb_1.unit1_BackRow_BottomFloor, Face: Wall_sdl_1.unit1_BackRow_BottomFloor], [Face: Wall_sdl_1.unit2_FrontRow_BottomFloor, Face: Floor_unit2_FrontRow_BottomFloor, Face: Wall_sdr_1.unit2_FrontRow_BottomFloor, Face: ceiling_unit2_FrontRow_BottomFloor, Face: Wall_ldf_1.unit2_FrontRow_BottomFloor, Face: Wall_ldb_1.unit2_FrontRow_BottomFloor], [Face: Floor_unit1_FrontRow_MiddleFloor, Face: ceiling_unit1_FrontRow_MiddleFloor, Face: Wall_sdr_1.unit1_FrontRow_MiddleFloor, Face: Wall_sdl_1.unit1_FrontRow_MiddleFloor, Face: Wall_ldb_1.unit1_FrontRow_MiddleFloor, Face: Wall_ldf_1.unit1_FrontRow_MiddleFloor], [Face: ceiling_unit3_BackRow_BottomFloor, Face: Floor_unit3_BackRow_BottomFloor, Face: Wall_sdl_1.unit3_BackRow_BottomFloor, Face: Wall_ldf_1.unit3_BackRow_BottomFloor, Face: Wall_ldb_1.unit3_BackRow_BottomFloor, Face: Wall_sdr_1.unit3_BackRow_BottomFloor], [Face: Wall_sdl_1.unit2_FrontRow_MiddleFloor, Face: ceiling_unit2_FrontRow_MiddleFloor, Face: Wall_sdr_1.unit2_FrontRow_MiddleFloor, Face: Floor_unit2_FrontRow_MiddleFloor, Face: Wall_ldb_1.unit2_FrontRow_MiddleFloor, Face: Wall_ldf_1.unit2_FrontRow_MiddleFloor], [Face: Wall_ldb_1.unit3_FrontRow_MiddleFloor, Face: Floor_unit3_FrontRow_MiddleFloor, Face: Wall_sdl_1.unit3_FrontRow_MiddleFloor, Face: Wall_sdr_1.unit3_FrontRow_MiddleFloor, Face: ceiling_unit3_FrontRow_MiddleFloor, Face: Wall_ldf_1.unit3_FrontRow_MiddleFloor], [Face: ceiling_unit1_BackRow_MiddleFloor, Face: Floor_unit1_BackRow_MiddleFloor, Face: Wall_sdl_1.unit1_BackRow_MiddleFloor, Face: Wall_ldf_1.unit1_BackRow_MiddleFloor, Face: Wall_ldb_1.unit1_BackRow_MiddleFloor, Face: Wall_sdr_1.unit1_BackRow_MiddleFloor], [Face: Floor_unit2_BackRow_MiddleFloor, Face: Wall_sdl_1.unit2_BackRow_MiddleFloor, Face: ceiling_unit2_BackRow_MiddleFloor, Face: Wall_sdr_1.unit2_BackRow_MiddleFloor, Face: Wall_ldf_1.unit2_BackRow_MiddleFloor, Face: Wall_ldb_1.unit2_BackRow_MiddleFloor], [Face: Wall_ldb_1.unit3_BackRow_MiddleFloor, Face: Wall_sdl_1.unit3_BackRow_MiddleFloor, Face: ceiling_unit3_BackRow_MiddleFloor, Face: Wall_sdr_1.unit3_BackRow_MiddleFloor, Face: Floor_unit3_BackRow_MiddleFloor, Face: Wall_ldf_1.unit3_BackRow_MiddleFloor], [Face: Roof_back, Face: Roof_right, Face: Roof_front, Face: Roof_left, Face: attic_Space..Face_11d57c7f, Face: attic_Space..Face_ee21d39b, Face: attic_Space..Face_90e35096, Face: attic_Space..Face_c305a9d4, Face: attic_Space..Face_a85d7b79, Face: attic_Space..Face_013116a0, Face: attic_Space..Face_83ca3d46], [Face: Wall_ldb_1.unit3_BackRow_TopFloor, Face: Wall_sdr_1.unit3_BackRow_TopFloor, Face: ceiling_unit3_BackRow_TopFloor, Face: Wall_sdl_1.unit3_BackRow_TopFloor, Face: FLOOR_UNIT3_BACKROW_TOPFLOOR, Face: Wall_ldf_1.unit3_BackRow_TopFloor], [Face: Wall_ldf_1.unit3_FrontRow_TopFloor, Face: Wall_sdl_1.unit3_FrontRow_TopFloor, Face: Wall_ldb_1.unit3_FrontRow_TopFloor, Face: Wall_sdr_1.unit3_FrontRow_TopFloor, Face: Floor_unit3_FrontRow_TopFloor, Face: ceiling_unit3_FrontRow_TopFloor], [Face: ceiling_unit2_FrontRow_TopFloor, Face: Wall_ldf_1.unit2_FrontRow_TopFloor, Face: Wall_sdr_1.unit2_FrontRow_TopFloor, Face: Floor_unit2_FrontRow_TopFloor, Face: Wall_sdl_1.unit2_FrontRow_TopFloor, Face: Wall_ldb_1.unit2_FrontRow_TopFloor], [Face: FLOOR_UNIT1_BACKROW_TOPFLOOR, Face: ceiling_unit1_BackRow_TopFloor, Face: Wall_sdr_1.unit1_BackRow_TopFloor, Face: Wall_ldf_1.unit1_BackRow_TopFloor, Face: Wall_ldb_1.unit1_BackRow_TopFloor, Face: Wall_sdl_1.unit1_BackRow_TopFloor], [Face: Face 1, Face: Face 2, Face: Face 3, Face: Face 4, Face: Face 5, Face: Face 6, Face: Face 6, Face: Face 6, Face: Face 6, Face: Face 6, Face: Face 6, Face: Face 6], [Face: Face_17cefa8d, Face: Face_abea9b6b, Face: Face_a14e2b9e, Face: Face_5035dd24, Face: Face_f9c1b4a3, Face: Face_cb373c04]]\n"
     ]
    }
   ],
   "source": [
    "\n",
    "from honeybee.model import Model\n",
    "from honeybee.room import Room\n",
    "from utils import add_louver_shade\n",
    "\n",
    "import plotly as plt\n",
    "import plotly.express as px\n",
    "import pandas as pd\n",
    "import honeybee_vtk\n",
    "import honeybee_vtk.model\n",
    "\n",
    "n_depth, e_depth, s_depth, w_depth = 0.1, 0.1, 0.1, 0.1\n",
    "s_count = 2\n",
    "angle = 0\n",
    "\n",
    "model = Model.from_hbjson('multi_fam.hbjson')\n",
    "rooms_list = []\n",
    "for room in model.rooms: \n",
    "    rooms_list.append(add_louver_shade(objs=room, _depth=[n_depth, e_depth, s_depth, w_depth], _shade_count_=[s_count], _angle_=[angle]))\n",
    "\n",
    "print(rooms_list)\n",
    "    \n",
    "rooms\n",
    "for obj in rooms_list:\n",
    "    \n"
   ]
  },
  {
   "cell_type": "code",
   "execution_count": null,
   "metadata": {},
   "outputs": [],
   "source": []
  }
 ],
 "metadata": {
  "kernelspec": {
   "display_name": ".env",
   "language": "python",
   "name": "python3"
  },
  "language_info": {
   "codemirror_mode": {
    "name": "ipython",
    "version": 3
   },
   "file_extension": ".py",
   "mimetype": "text/x-python",
   "name": "python",
   "nbconvert_exporter": "python",
   "pygments_lexer": "ipython3",
   "version": "3.12.3"
  }
 },
 "nbformat": 4,
 "nbformat_minor": 2
}
